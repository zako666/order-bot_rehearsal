{
 "cells": [
  {
   "cell_type": "code",
   "execution_count": null,
   "id": "16cd1e93",
   "metadata": {
    "scrolled": false
   },
   "outputs": [],
   "source": [
    "#安裝順序conda install numpy>scipy>matplotlib>seaborn\n",
    "import scipy\n",
    "import matplotlib\n",
    "import numpy \n",
    "import seaborn\n",
    "import pandas\n",
    "import bokeh"
   ]
  },
  {
   "cell_type": "code",
   "execution_count": 41,
   "id": "33c45e1c",
   "metadata": {},
   "outputs": [
    {
     "name": "stdout",
     "output_type": "stream",
     "text": [
      "[[1.+0.j 2.+0.j 3.+0.j]]\n",
      "<class 'numpy.ndarray'>\n",
      "complex128\n",
      "3\n",
      "(1, 3)\n",
      "16\n",
      "2\n",
      "48\n"
     ]
    }
   ],
   "source": [
    "#dtype参数         #多少维度ndmin \n",
    "#size陣列元素總數  #shape (n*m)陣列形狀\n",
    "#itemsize 陣列元素佔用的位元組數\n",
    "#nbytes 整個陣列佔用的位元組數\n",
    "import numpy as np \n",
    "a = np.array([1,  2,  3], dtype = complex,ndmin =  2)  \n",
    "print (a)\n",
    "print(type(a))\n",
    "print(a.dtype) #dtype参数\n",
    "print(a.size) #size陣列元素總數\n",
    "print(a.shape) #shape (n*m)陣列形狀\n",
    "print(a.itemsize) #itemsize 陣列元素佔用的位元組數\n",
    "print(a.ndim) #多少维度ndmin \n",
    "print(a.nbytes) #nbytes 整個陣列佔用的位元組數\n",
    "del a"
   ]
  },
  {
   "cell_type": "code",
   "execution_count": 44,
   "id": "fa65dabe",
   "metadata": {},
   "outputs": [
    {
     "name": "stdout",
     "output_type": "stream",
     "text": [
      "<class 'numpy.ndarray'>\n",
      "<class 'numpy.ndarray'>\n",
      "1 2 3 4 5\n",
      "[5 2 3 4 5]\n",
      "[5 2 3 4 0]\n"
     ]
    }
   ],
   "source": [
    "#使用清單元組建立一維陣列\n",
    "import numpy as np \n",
    "a = np.array([1,2,3,4,5])\n",
    "b = np.array((1,2,3,4,5))\n",
    "print(type(a))\n",
    "print(type(b))\n",
    "print(a[0],a[1],a[2],a[3],a[4])\n",
    "b[0]=5\n",
    "print(b)\n",
    "b[4]=0\n",
    "print(b)\n",
    "del a,b"
   ]
  },
  {
   "cell_type": "code",
   "execution_count": 45,
   "id": "31f497eb",
   "metadata": {},
   "outputs": [
    {
     "name": "stdout",
     "output_type": "stream",
     "text": [
      "[1 2 3 4 5]\n",
      "[1. 2. 3. 4. 5.]\n"
     ]
    }
   ],
   "source": [
    "#指定元素型態陣列\n",
    "a = np.array([1, 2, 3, 4, 5], int)\n",
    "b = np.array((1, 2, 3, 4, 5), dtype=float)\n",
    "print(a)\n",
    "print(b)\n",
    "del a,b"
   ]
  },
  {
   "cell_type": "code",
   "execution_count": 46,
   "id": "2589e8c7",
   "metadata": {},
   "outputs": [
    {
     "name": "stdout",
     "output_type": "stream",
     "text": [
      "[[0 0 0]\n",
      " [0 0 0]]\n",
      "[[1 1 1]\n",
      " [1 1 1]]\n"
     ]
    }
   ],
   "source": [
    "a = np.array([[1,2,3],[4,5,6]])\n",
    "b = np.zeros_like(a)\n",
    "print(b)\n",
    "c = np.ones_like(a)\n",
    "print(c)\n",
    "del a,b,c"
   ]
  },
  {
   "cell_type": "code",
   "execution_count": 47,
   "id": "0214307d",
   "metadata": {},
   "outputs": [
    {
     "name": "stdout",
     "output_type": "stream",
     "text": [
      "[ 0  1  2  3  4  5  6  7  8  9 10 11 12 13 14 15]\n",
      "[[ 0  1  2  3]\n",
      " [ 4  5  6  7]\n",
      " [ 8  9 10 11]\n",
      " [12 13 14 15]]\n",
      "[100 100 100 100   4   5   6   7   8   9  10  11  12  13  14  15]\n",
      "[0. 1. 2. 3. 4. 5. 6. 7. 8. 9.]\n",
      "[[0. 1.]\n",
      " [2. 3.]\n",
      " [4. 5.]\n",
      " [6. 7.]\n",
      " [8. 9.]]\n"
     ]
    }
   ],
   "source": [
    "#陣列維度轉換numpy.reshape()\n",
    "#ndarray.reshape 通常返回的是非拷貝副本，\n",
    "#即改變返回後數組的元素，原數組對應元素的值也會改變。\n",
    "a = np.arange(16)\n",
    "print(a)\n",
    "b = a.reshape((4,4))\n",
    "print(b)\n",
    "b[0]=100\n",
    "print(a) #淺複製\n",
    "c = np.array(range(10), float)\n",
    "print(c)\n",
    "d = c.reshape((5,2))\n",
    "print(d)\n",
    "del a,b,c,d"
   ]
  },
  {
   "cell_type": "code",
   "execution_count": 49,
   "id": "60763c24",
   "metadata": {},
   "outputs": [
    {
     "name": "stdout",
     "output_type": "stream",
     "text": [
      "[0 1 2 3 4 5 6 7 8 9]\n",
      "[[1 2 3]\n",
      " [4 5 6]]\n"
     ]
    }
   ],
   "source": [
    "#將陣列儲存成npy檔案\n",
    "a = np.arange(10)\n",
    "outputfile = \"Example.npy\"\n",
    "with open(outputfile, 'wb') as fp:\n",
    "    np.save(fp, a)\n",
    "#將陣列儲存成out檔案\n",
    "b = np.array([[1,2,3],[4,5,6]])\n",
    "outputfile = \"Example.out\"\n",
    "np.savetxt(outputfile, b, delimiter=',')\n",
    "#讀取npy\n",
    "outputfile = \"Example.npy\"\n",
    "with open(outputfile, 'rb') as fp:\n",
    "    a = np.load(fp)\n",
    "print(a)\n",
    "#讀取out\n",
    "outputfile = \"Example.out\"\n",
    "np.loadtxt(outputfile,delimiter=',')\n",
    "print(b)\n",
    "del a,b"
   ]
  },
  {
   "cell_type": "code",
   "execution_count": 64,
   "id": "c8c4f27e",
   "metadata": {},
   "outputs": [
    {
     "name": "stdout",
     "output_type": "stream",
     "text": [
      "v=[1 2 3]\n",
      "s=5\n",
      "a+s=[6 7 8]\n",
      "a-s=[-4 -3 -2]\n",
      "a*s=[ 5 10 15]\n",
      "a/s=[0.2 0.4 0.6]\n",
      "\n",
      " a=\n",
      "[[1 2 3]\n",
      " [4 5 6]]\n",
      "s=5\n",
      "a+s=\n",
      "[[ 6  7  8]\n",
      " [ 9 10 11]]\n",
      "a-s=\n",
      "[[-4 -3 -2]\n",
      " [-1  0  1]]\n",
      "a*s=\n",
      "[[ 5 10 15]\n",
      " [20 25 30]]\n",
      "a/s=\n",
      "[[0.2 0.4 0.6]\n",
      " [0.8 1.  1.2]]\n"
     ]
    }
   ],
   "source": [
    "#向量與純量四則運算\n",
    "a = np.array([1,2,3])\n",
    "print(\"v=\" +str(a))\n",
    "s = 5\n",
    "print(\"s=\" + str(s))\n",
    "b=a+s\n",
    "print(\"a+s=\" + str(b))\n",
    "b=a-s\n",
    "print(\"a-s=\" + str(b))\n",
    "b=a*s\n",
    "print(\"a*s=\" + str(b))\n",
    "b=a/s\n",
    "print(\"a/s=\" + str(b))\n",
    "del a,b,s\n",
    "print()\n",
    "\n",
    "#矩陣與純量四則運算\n",
    "a= np.array([[1,2,3],[4,5,6]])\n",
    "print(\" a=\")\n",
    "print(a)\n",
    "s = 5\n",
    "print(\"s=\" + str(s))\n",
    "b=a+s\n",
    "print(\"a+s=\")\n",
    "print(b)\n",
    "b=a-s\n",
    "print(\"a-s=\")\n",
    "print(b)\n",
    "b=a*s\n",
    "print(\"a*s=\")\n",
    "print(b)\n",
    "b=a/s\n",
    "print(\"a/s=\")\n",
    "print(b)\n",
    "del a,b,s"
   ]
  },
  {
   "cell_type": "code",
   "execution_count": 65,
   "id": "adb3784b",
   "metadata": {},
   "outputs": [
    {
     "name": "stdout",
     "output_type": "stream",
     "text": [
      "a=[1 2 3]\n",
      "s=[4 5 6]\n",
      "a+s=[5 7 9]\n",
      "a-s=[-3 -3 -3]\n",
      "a*s=[ 4 10 18]\n",
      "a/s=[0.25 0.4  0.5 ]\n",
      "\n",
      " a=\n",
      "[[1 2]\n",
      " [3 4]]\n",
      "s=[[5 6]\n",
      " [7 8]]\n",
      "a+s=\n",
      "[[ 6  8]\n",
      " [10 12]]\n",
      "a-s=\n",
      "[[-4 -4]\n",
      " [-4 -4]]\n",
      "a*s=\n",
      "[[ 5 12]\n",
      " [21 32]]\n",
      "a/s=\n",
      "[[0.2        0.33333333]\n",
      " [0.42857143 0.5       ]]\n"
     ]
    }
   ],
   "source": [
    "#向量與向量四則運算\n",
    "a = np.array([1,2,3])\n",
    "print(\"a=\" + str(a))\n",
    "s = np.array([4, 5, 6])\n",
    "print(\"s=\" + str(s))\n",
    "b=a+s\n",
    "print(\"a+s=\" + str(b))\n",
    "b=a-s\n",
    "print(\"a-s=\" + str(b))\n",
    "b=a*s\n",
    "print(\"a*s=\" + str(b))\n",
    "b=a/s\n",
    "print(\"a/s=\" + str(b))\n",
    "del a,b,s\n",
    "print()\n",
    "\n",
    "#矩陣與矩陣四則運算\n",
    "a= np.array([[1,2],[3,4]])\n",
    "print(\" a=\")\n",
    "print(a)\n",
    "s = np.array([[5,6],[7,8]])\n",
    "print(\"s=\" + str(s))\n",
    "b=a+s\n",
    "print(\"a+s=\")\n",
    "print(b)\n",
    "b=a-s\n",
    "print(\"a-s=\")\n",
    "print(b)\n",
    "b=a*s\n",
    "print(\"a*s=\")\n",
    "print(b)\n",
    "b=a/s\n",
    "print(\"a/s=\")\n",
    "print(b)\n",
    "del a,b,s"
   ]
  },
  {
   "cell_type": "code",
   "execution_count": 66,
   "id": "3de10412",
   "metadata": {},
   "outputs": [
    {
     "name": "stdout",
     "output_type": "stream",
     "text": [
      "a=[1 2 3]\n",
      "s=[4 5 6]\n",
      "a.dot(s)=32\n",
      "\n",
      " a=\n",
      "[[1 2]\n",
      " [3 4]]\n",
      "s=[[5 6]\n",
      " [7 8]]\n",
      "a.dot(s)=[[19 22]\n",
      " [43 50]]\n"
     ]
    }
   ],
   "source": [
    "#向量的點積運算\n",
    "a = np.array([1, 2,3])\n",
    "print(\"a=\" + str(a))\n",
    "s = np.array([4, 5, 6])\n",
    "print(\"s=\" + str(s))\n",
    "b = a.dot(s)\n",
    "print(\"a.dot(s)=\" + str(b))\n",
    "del a,b,s\n",
    "print()\n",
    "\n",
    "#矩陣的點積運算\n",
    "a= np.array([[1,2],[3,4]])\n",
    "print(\" a=\")\n",
    "print(a)\n",
    "s = np.array([[5,6],[7,8]])\n",
    "print(\"s=\" + str(s))\n",
    "b = a.dot(s)\n",
    "print(\"a.dot(s)=\" + str(b))\n",
    "del a,b,s"
   ]
  },
  {
   "cell_type": "code",
   "execution_count": 67,
   "id": "55a6620b",
   "metadata": {},
   "outputs": [
    {
     "name": "stdout",
     "output_type": "stream",
     "text": [
      "a=[14  8 10 11  6  3 18 13 12  9]\n",
      "mask=[False False False False  True  True  True False  True  True]\n",
      "a[mask]=[ 6  3 18 12  9]\n",
      "a[a%3==0]=-1->[14  8 10 11 -1 -1 -1 13 -1 -1]\n",
      "\n",
      "a=\n",
      "[[ 1  2  3]\n",
      " [ 4  5  6]\n",
      " [ 7  8  9]\n",
      " [10 11 12]]\n",
      " a[[0,1,2],[0,1,0]]=\n",
      "[1 5 7]\n",
      "\n",
      " a=\n",
      "[[1 2]\n",
      " [3 4]\n",
      " [5 6]]\n",
      "mask=\n",
      "[[False False]\n",
      " [ True  True]\n",
      " [ True  True]]\n"
     ]
    }
   ],
   "source": [
    "#切割一維陣列元素array[start:end:step]\n",
    "#使用布林值遮罩索引\n",
    "a = np.array([14,8,10,11,6,3,18,13,12,9])\n",
    "print(\"a=\"+ str(a))\n",
    "mask = (a % 3 == 0) #建立布林值陣列\n",
    "print(\"mask=\" + str(mask))\n",
    "b = a[mask] #使用布林值陣列取出值\n",
    "print(\"a[mask]=\" + str(b))\n",
    "a[a % 3 == 0] = -1 #同時更改多個True索引\n",
    "print(\"a[a%3==0]=-1->\" + str(a))\n",
    "del a,b,mask\n",
    "print()\n",
    "\n",
    "#切割二維陣列元素array[start:end:step,start1:end1:step1]\n",
    "a=np.array([[1,2,3],[4,5,6],[7,8,9],[10,11,12]])\n",
    "print(\"a=\")\n",
    "print(a)\n",
    "b=a[[0,1,2],[0,1,0]]#索引[0,0][12\n",
    "print(\" a[[0,1,2],[0,1,0]]=\")\n",
    "print(b)\n",
    "del a,b\n",
    "print()\n",
    "\n",
    "#矩陣使用布林值遮罩索引\n",
    "a = np.array([[1,2],[3,4],[5,6]])\n",
    "print(\" a=\")\n",
    "print(a)\n",
    "mask = (a > 2)\n",
    "print(\"mask=\")\n",
    "print(mask)\n",
    "del a,mask"
   ]
  },
  {
   "cell_type": "code",
   "execution_count": 74,
   "id": "0d613784",
   "metadata": {},
   "outputs": [
    {
     "name": "stdout",
     "output_type": "stream",
     "text": [
      "a=[[ 1  2  3]\n",
      " [ 4  5  6]\n",
      " [ 7  8  9]\n",
      " [10 11 12]]\n",
      "a 形狀:(4, 3)\n",
      "b=[1 0 1]\n",
      "b形狀:(3,)\n",
      "c=a+b\n",
      "c= [[ 2  2  4]\n",
      " [ 5  5  7]\n",
      " [ 8  8 10]\n",
      " [11 11 13]]\n",
      "[[ 1  2  3]\n",
      " [ 4  5  6]\n",
      " [ 7  8  9]\n",
      " [10 11 12]]\n"
     ]
    }
   ],
   "source": [
    "#使用廣播(自動)執行陣列相加 擴充小矩陣使等式相等\n",
    "a = np.array([[1,2,3],[4,5,6],[7,8,9],[10,11,12]])\n",
    "print(\"a=\"+ str(a))\n",
    "print(\"a 形狀:\"+str(a.shape))\n",
    "b = np.array([1,0,1])\n",
    "print(\"b=\" + str(b))\n",
    "print(\"b形狀:\"+str(b.shape))\n",
    "c =a+b\n",
    "print(\"c=a+b\")\n",
    "print(\"c=\",c)\n",
    "print(a)\n",
    "del a,b,c"
   ]
  },
  {
   "cell_type": "code",
   "execution_count": 78,
   "id": "ab7f1c87",
   "metadata": {},
   "outputs": [
    {
     "name": "stdout",
     "output_type": "stream",
     "text": [
      "a=\n",
      "[[1 2 3]\n",
      " [4 5 6]]\n",
      "[1 2 3 4 5 6]\n",
      "[1 2 3 4 5 6]\n"
     ]
    }
   ],
   "source": [
    "#使用陣列平坦化 numpy.ravel()\n",
    "a = np.array([[1,2,3],[4,5,6]])\n",
    "print(\"a=\")\n",
    "print(a)\n",
    "b = a.ravel()\n",
    "print(b)\n",
    "b = np.ravel(a)\n",
    "print(b)\n",
    "del a,b"
   ]
  },
  {
   "cell_type": "code",
   "execution_count": 79,
   "id": "1c698be9",
   "metadata": {},
   "outputs": [
    {
     "name": "stdout",
     "output_type": "stream",
     "text": [
      "a=[1 2 3 4 5 6]\n",
      "b=np.reshape(a,(3,2))->\n",
      "[[1 2]\n",
      " [3 4]\n",
      " [5 6]]\n",
      "c=b.T->\n",
      "[[1 3 5]\n",
      " [2 4 6]]\n",
      "c=b.transpose0->\n",
      "[[1 3 5]\n",
      " [2 4 6]]\n",
      "c=np.transpose(b)->\n",
      "[[1 3 5]\n",
      " [2 4 6]]\n"
     ]
    }
   ],
   "source": [
    "#更改陣列形狀 array.T | array.transpose()\n",
    "a = np.array([1,2,3,4,5,6])\n",
    "print(\"a=\" + str(a))\n",
    "b =np.reshape(a,(3,2))\n",
    "print(\"b=np.reshape(a,(3,2))->\")\n",
    "print(b)\n",
    "c = b.T\n",
    "print(\"c=b.T->\")\n",
    "print(c)\n",
    "c = b.transpose()\n",
    "print(\"c=b.transpose0->\")\n",
    "print(c)\n",
    "c = np.transpose(b)\n",
    "print(\"c=np.transpose(b)->\")\n",
    "print(c)\n",
    "del a,b,c"
   ]
  },
  {
   "cell_type": "code",
   "execution_count": 81,
   "id": "37ecd5f0",
   "metadata": {},
   "outputs": [
    {
     "name": "stdout",
     "output_type": "stream",
     "text": [
      "a=[1 2 3]\n",
      "b=a[:,np.newaxis]->\n",
      "[[1]\n",
      " [2]\n",
      " [3]]\n",
      "(3, 1)\n",
      "b=a[np.newaxis,:]->\n",
      "[[1 2 3]]\n",
      "(1, 3)\n"
     ]
    }
   ],
   "source": [
    "#新增陣列的維度 array.newaxis()\n",
    "a = np.array([1,2,3])\n",
    "print(\"a=\" + str(a))\n",
    "b = a[:,np.newaxis]\n",
    "print(\"b=a[:,np.newaxis]->\")\n",
    "print(b)\n",
    "print(b.shape)\n",
    "b = a[np.newaxis,:]\n",
    "print(\"b=a[np.newaxis,:]->\")\n",
    "print(b)\n",
    "print(b.shape)\n",
    "del a,b"
   ]
  },
  {
   "cell_type": "code",
   "execution_count": 82,
   "id": "773d3b35",
   "metadata": {},
   "outputs": [
    {
     "name": "stdout",
     "output_type": "stream",
     "text": [
      "c=np.concatenate(a,b))->\n",
      "[[1 2]\n",
      " [3 4]\n",
      " [5 6]\n",
      " [7 8]]\n",
      "c=np.concatenate((a,b), axis=0)->\n",
      "[[1 2]\n",
      " [3 4]\n",
      " [5 6]\n",
      " [7 8]]\n",
      "c=np.concatenate((a,b), axis=1)->\n",
      "[[1 2 5 6]\n",
      " [3 4 7 8]]\n"
     ]
    }
   ],
   "source": [
    "#連接兩個多維陣列 array.concatenate() axis=0直向連接在下方,axis=1橫向連接在右方\n",
    "a = np.array([[1,2],[3,4]])\n",
    "b = np.array([[5,6],[7,8]])\n",
    "c = np.concatenate((a,b))\n",
    "print(\"c=np.concatenate(a,b))->\")\n",
    "print(c)\n",
    "c = np.concatenate((a,b), axis=0)\n",
    "print(\"c=np.concatenate((a,b), axis=0)->\")\n",
    "print(c)\n",
    "c = np.concatenate((a,b), axis=1)\n",
    "print(\"c=np.concatenate((a,b), axis=1)->\")\n",
    "print(c)\n",
    "del a,b,c"
   ]
  },
  {
   "cell_type": "code",
   "execution_count": null,
   "id": "13fea23c",
   "metadata": {},
   "outputs": [],
   "source": [
    "# 函數 說明\n",
    "# seed(int) 指定亂數函數的種子數,這是整數值,同一個種子數會產生相同的亂數序列\n",
    "# random()產生0.0~1.0之間的亂數\n",
    "# randint(min,max,size) 產生min~max之間的整數亂數,不含max,如果有第3個參數可以產生整數亂數值的陣列\n",
    "# rand(row.col) 產生亂數值的陣列,第1個參數是一維陣列的尺寸,第2個參數是二維陣列的列與欄\n",
    "# randn(row,col) 類似rand(),可以產生標準常態分佈的樣本資料,詳見第12章的說明"
   ]
  },
  {
   "cell_type": "code",
   "execution_count": 87,
   "id": "9bff8d6b",
   "metadata": {},
   "outputs": [
    {
     "name": "stdout",
     "output_type": "stream",
     "text": [
      "[0.5        0.70710678 0.8660254 ]\n",
      "[0.8660254  0.70710678 0.5       ]\n",
      "[0.57735027 1.         1.73205081]\n",
      "\n",
      "a=[  1.      5.55  123.      0.567  25.532]\n",
      "[  1.   6. 123.   1.  26.]\n",
      "[  1.    5.6 123.    0.6  25.5]\n",
      "[  0.  10. 120.   0.  30.]\n"
     ]
    }
   ],
   "source": [
    "#三角函數 arrat.sin()\n",
    "a = np.array([30,45,60])\n",
    "print(np.sin(a*np.pi/180))\n",
    "print(np.cos(a*np.pi/180))\n",
    "print(np.tan(a*np.pi/180))\n",
    "print()\n",
    "      \n",
    "#四捨五入函數 array.around(array.decimals=0(沒有小數))\n",
    "a = np.array([1.0,5.55, 123, 0.567,25.532])\n",
    "print(\"a=\" + str(a))\n",
    "print(np.around(a))\n",
    "print(np.around(a, decimals= 1))\n",
    "print(np.around(a, decimals = -1))\n",
    "del a"
   ]
  }
 ],
 "metadata": {
  "kernelspec": {
   "display_name": "Python 3",
   "language": "python",
   "name": "python3"
  },
  "language_info": {
   "codemirror_mode": {
    "name": "ipython",
    "version": 3
   },
   "file_extension": ".py",
   "mimetype": "text/x-python",
   "name": "python",
   "nbconvert_exporter": "python",
   "pygments_lexer": "ipython3",
   "version": "3.8.8"
  }
 },
 "nbformat": 4,
 "nbformat_minor": 5
}
