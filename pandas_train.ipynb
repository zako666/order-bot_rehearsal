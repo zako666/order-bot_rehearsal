{
 "cells": [
  {
   "cell_type": "code",
   "execution_count": 16,
   "id": "c49409ca",
   "metadata": {},
   "outputs": [
    {
     "name": "stdout",
     "output_type": "stream",
     "text": [
      "0    12\n",
      "1    29\n",
      "2    72\n",
      "3     4\n",
      "4     8\n",
      "5    10\n",
      "dtype: int64\n"
     ]
    }
   ],
   "source": [
    "#建立Series物件\n",
    "import numpy \n",
    "import pandas as pd \n",
    "s=pd.Series([12,29,72,4,8,10])\n",
    "print(s)\n",
    "del s"
   ]
  },
  {
   "cell_type": "code",
   "execution_count": 8,
   "id": "6f4b65ec",
   "metadata": {},
   "outputs": [
    {
     "name": "stdout",
     "output_type": "stream",
     "text": [
      "蘋果    15\n",
      "橘子    33\n",
      "梨子    45\n",
      "櫻桃    55\n",
      "dtype: int64\n",
      "Index(['蘋果', '橘子', '梨子', '櫻桃'], dtype='object')\n",
      "[15 33 45 55]\n"
     ]
    }
   ],
   "source": [
    "#建立自訂索引Series物件\n",
    "fruits=[\"蘋果\",\"橘子\",\"梨子\",\"櫻桃\"]\n",
    "quantities = [15, 33, 45, 55]\n",
    "s = pd.Series(quantities, index=fruits)\n",
    "print(s)\n",
    "print(s.index)\n",
    "print(s.values)\n",
    "\n",
    "del s,fruits,quantities"
   ]
  },
  {
   "cell_type": "code",
   "execution_count": 4,
   "id": "88e18d4e",
   "metadata": {},
   "outputs": [
    {
     "name": "stdout",
     "output_type": "stream",
     "text": [
      "蘋果    26\n",
      "橘子    49\n",
      "梨子    66\n",
      "櫻桃    87\n",
      "dtype: int64\n",
      "總計= 228\n"
     ]
    }
   ],
   "source": [
    "#Series物件加法的聯集運算\n",
    "fruits=[\"蘋果\",\"橘子\",\"梨子\",\"櫻桃\"]\n",
    "quantities = [15, 33, 45, 55]\n",
    "s = pd.Series(quantities, index=fruits)\n",
    "p = pd.Series([11, 16, 21, 32], index=fruits)\n",
    "print(s + p)\n",
    "print(\"總計=\",sum(s+p))\n",
    "del s,p,fruits,quantities"
   ]
  },
  {
   "cell_type": "code",
   "execution_count": 9,
   "id": "51b25579",
   "metadata": {},
   "outputs": [
    {
     "name": "stdout",
     "output_type": "stream",
     "text": [
      "橘子= 33\n",
      "橘子    33\n",
      "梨子    45\n",
      "櫻桃    55\n",
      "dtype: int64\n",
      "蘋果     51\n",
      "橘子    105\n",
      "梨子    141\n",
      "櫻桃    171\n",
      "dtype: int64\n",
      "蘋果    0.650288\n",
      "橘子    0.999912\n",
      "梨子    0.850904\n",
      "櫻桃   -0.999755\n",
      "dtype: float64\n"
     ]
    }
   ],
   "source": [
    "#Series物件使用索引取出資料\n",
    "fruits=[\"蘋果\",\"橘子\",\"梨子\",\"櫻桃\"]\n",
    "s = pd.Series([15, 33, 45, 55], index=fruits)\n",
    "print(\"橘子=\",s[\"橘子\"])\n",
    "print(s[[\"橘子\",\"梨子\",\"櫻桃\"]])\n",
    "print((s+2)*3)\n",
    "import numpy as np\n",
    "print(s.apply(np.sin))\n",
    "del s,fruits"
   ]
  },
  {
   "cell_type": "code",
   "execution_count": 17,
   "id": "e5ad3d97",
   "metadata": {},
   "outputs": [
    {
     "data": {
      "image/png": "[encoded data removed]",
      "text/plain": [
       "<Figure size 432x432 with 1 Axes>"
      ]
     },
     "metadata": {},
     "output_type": "display_data"
    }
   ],
   "source": [
    "#使用Series物件繪製折線圖s.plot()\n",
    "#自訂索引繪製折線圖\n",
    "data = [100, 110, 150, 170, 190, 200, 220]\n",
    "weekday = [\"Sun\", \"Mon\", \"Tue\", \"Wed\", \"Thu\", \"Fri\", \"Sat\"]\n",
    "# s = pd.Series(data, index=weekday)\n",
    "# s.plot()\n",
    "\n",
    "#使用Series物件繪製長條圖 s.plot(kind=\"bar\", rot=0)\n",
    "s = pd.Series(data)\n",
    "# s.plot(kind=\"bar\", rot=0)\n",
    "\n",
    "#使用Series物件繪製派圖/圓餅圖 s.plot(kind=\"pie\")\n",
    "# s.plot(kind=\"pie\")\n",
    "\n",
    "#使用突增值標示派圖的切片\n",
    "s = pd.Series(data,index=weekday,name=\"weekday\")\n",
    "explode=[0.1,0.3,0.1,0.3,0.2,0.3,0.1]\n",
    "s.plot(kind=\"pie\",figsize=(6,6),explode=explode)\n",
    "del s"
   ]
  },
  {
   "cell_type": "code",
   "execution_count": 14,
   "id": "04b07183",
   "metadata": {},
   "outputs": [
    {
     "name": "stdout",
     "output_type": "stream",
     "text": [
      "   name  population city\n",
      "0   中正區      159598  台北市\n",
      "1   板橋區      551452  新北市\n",
      "2   桃園區      441287  桃園市\n",
      "3   北屯區      275207  台中市\n",
      "4   安南區      192327  台南市\n",
      "5   三民區      343203  高雄市\n",
      "6   大安區      309835  台北市\n",
      "7   永和區      222531  新北市\n",
      "8   八德區      198473  桃園市\n",
      "9   前鎮區      189623  高雄市\n",
      "10  鳳山區      359125  高雄市\n",
      "11  信義區      225561  台北市\n",
      "12  新店區      302070  新北市\n"
     ]
    },
    {
     "ename": "AttributeError",
     "evalue": "'Line2D' object has no property 'encoding'",
     "output_type": "error",
     "traceback": [
      "\u001b[1;31m---------------------------------------------------------------------------\u001b[0m",
      "\u001b[1;31mAttributeError\u001b[0m                            Traceback (most recent call last)",
      "\u001b[1;32m<ipython-input-14-f58992049b06>\u001b[0m in \u001b[0;36m<module>\u001b[1;34m\u001b[0m\n\u001b[0;32m     27\u001b[0m \u001b[1;31m#顯示完整x軸標籤的折線圖\u001b[0m\u001b[1;33m\u001b[0m\u001b[1;33m\u001b[0m\u001b[1;33m\u001b[0m\u001b[0m\n\u001b[0;32m     28\u001b[0m \u001b[0mdf2\u001b[0m \u001b[1;33m=\u001b[0m \u001b[0mpd\u001b[0m\u001b[1;33m.\u001b[0m\u001b[0mDataFrame\u001b[0m\u001b[1;33m(\u001b[0m\u001b[0mdists\u001b[0m\u001b[1;33m,\u001b[0m\u001b[0mcolumns\u001b[0m\u001b[1;33m=\u001b[0m\u001b[1;33m[\u001b[0m\u001b[1;34m\"population\"\u001b[0m\u001b[1;33m]\u001b[0m\u001b[1;33m,\u001b[0m\u001b[0mindex\u001b[0m\u001b[1;33m=\u001b[0m\u001b[0mdists\u001b[0m\u001b[1;33m[\u001b[0m\u001b[1;34m\"name\"\u001b[0m\u001b[1;33m]\u001b[0m\u001b[1;33m)\u001b[0m\u001b[1;33m\u001b[0m\u001b[1;33m\u001b[0m\u001b[0m\n\u001b[1;32m---> 29\u001b[1;33m \u001b[0mdf2\u001b[0m\u001b[1;33m.\u001b[0m\u001b[0mplot\u001b[0m\u001b[1;33m(\u001b[0m\u001b[0mxticks\u001b[0m\u001b[1;33m=\u001b[0m\u001b[0mrange\u001b[0m\u001b[1;33m(\u001b[0m\u001b[0mlen\u001b[0m\u001b[1;33m(\u001b[0m\u001b[0mdf2\u001b[0m\u001b[1;33m.\u001b[0m\u001b[0mindex\u001b[0m\u001b[1;33m)\u001b[0m\u001b[1;33m)\u001b[0m\u001b[1;33m,\u001b[0m\u001b[0muse_index\u001b[0m\u001b[1;33m=\u001b[0m\u001b[1;32mTrue\u001b[0m\u001b[1;33m,\u001b[0m\u001b[0mencoding\u001b[0m\u001b[1;33m=\u001b[0m\u001b[1;34m\"utf8\"\u001b[0m\u001b[1;33m)\u001b[0m\u001b[1;33m\u001b[0m\u001b[1;33m\u001b[0m\u001b[0m\n\u001b[0m\u001b[0;32m     30\u001b[0m \u001b[0mdf2\u001b[0m\u001b[1;33m.\u001b[0m\u001b[0mplot\u001b[0m\u001b[1;33m(\u001b[0m\u001b[0mxticks\u001b[0m\u001b[1;33m=\u001b[0m\u001b[0mrange\u001b[0m\u001b[1;33m(\u001b[0m\u001b[0mlen\u001b[0m\u001b[1;33m(\u001b[0m\u001b[0mdf2\u001b[0m\u001b[1;33m.\u001b[0m\u001b[0mindex\u001b[0m\u001b[1;33m)\u001b[0m\u001b[1;33m)\u001b[0m\u001b[1;33m,\u001b[0m\u001b[0muse_index\u001b[0m\u001b[1;33m=\u001b[0m \u001b[1;32mTrue\u001b[0m\u001b[1;33m,\u001b[0m\u001b[0mrot\u001b[0m\u001b[1;33m=\u001b[0m\u001b[1;36m90\u001b[0m\u001b[1;33m,\u001b[0m\u001b[0mencoding\u001b[0m\u001b[1;33m=\u001b[0m\u001b[1;34m\"utf8\"\u001b[0m\u001b[1;33m)\u001b[0m\u001b[1;33m\u001b[0m\u001b[1;33m\u001b[0m\u001b[0m\n\u001b[0;32m     31\u001b[0m \u001b[1;33m\u001b[0m\u001b[0m\n",
      "\u001b[1;32m~\\anaconda3\\envs\\labtext\\lib\\site-packages\\pandas\\plotting\\_core.py\u001b[0m in \u001b[0;36m__call__\u001b[1;34m(self, *args, **kwargs)\u001b[0m\n\u001b[0;32m    953\u001b[0m                     \u001b[0mdata\u001b[0m\u001b[1;33m.\u001b[0m\u001b[0mcolumns\u001b[0m \u001b[1;33m=\u001b[0m \u001b[0mlabel_name\u001b[0m\u001b[1;33m\u001b[0m\u001b[1;33m\u001b[0m\u001b[0m\n\u001b[0;32m    954\u001b[0m \u001b[1;33m\u001b[0m\u001b[0m\n\u001b[1;32m--> 955\u001b[1;33m         \u001b[1;32mreturn\u001b[0m \u001b[0mplot_backend\u001b[0m\u001b[1;33m.\u001b[0m\u001b[0mplot\u001b[0m\u001b[1;33m(\u001b[0m\u001b[0mdata\u001b[0m\u001b[1;33m,\u001b[0m \u001b[0mkind\u001b[0m\u001b[1;33m=\u001b[0m\u001b[0mkind\u001b[0m\u001b[1;33m,\u001b[0m \u001b[1;33m**\u001b[0m\u001b[0mkwargs\u001b[0m\u001b[1;33m)\u001b[0m\u001b[1;33m\u001b[0m\u001b[1;33m\u001b[0m\u001b[0m\n\u001b[0m\u001b[0;32m    956\u001b[0m \u001b[1;33m\u001b[0m\u001b[0m\n\u001b[0;32m    957\u001b[0m     \u001b[0m__call__\u001b[0m\u001b[1;33m.\u001b[0m\u001b[0m__doc__\u001b[0m \u001b[1;33m=\u001b[0m \u001b[0m__doc__\u001b[0m\u001b[1;33m\u001b[0m\u001b[1;33m\u001b[0m\u001b[0m\n",
      "\u001b[1;32m~\\anaconda3\\envs\\labtext\\lib\\site-packages\\pandas\\plotting\\_matplotlib\\__init__.py\u001b[0m in \u001b[0;36mplot\u001b[1;34m(data, kind, **kwargs)\u001b[0m\n\u001b[0;32m     59\u001b[0m             \u001b[0mkwargs\u001b[0m\u001b[1;33m[\u001b[0m\u001b[1;34m\"ax\"\u001b[0m\u001b[1;33m]\u001b[0m \u001b[1;33m=\u001b[0m \u001b[0mgetattr\u001b[0m\u001b[1;33m(\u001b[0m\u001b[0max\u001b[0m\u001b[1;33m,\u001b[0m \u001b[1;34m\"left_ax\"\u001b[0m\u001b[1;33m,\u001b[0m \u001b[0max\u001b[0m\u001b[1;33m)\u001b[0m\u001b[1;33m\u001b[0m\u001b[1;33m\u001b[0m\u001b[0m\n\u001b[0;32m     60\u001b[0m     \u001b[0mplot_obj\u001b[0m \u001b[1;33m=\u001b[0m \u001b[0mPLOT_CLASSES\u001b[0m\u001b[1;33m[\u001b[0m\u001b[0mkind\u001b[0m\u001b[1;33m]\u001b[0m\u001b[1;33m(\u001b[0m\u001b[0mdata\u001b[0m\u001b[1;33m,\u001b[0m \u001b[1;33m**\u001b[0m\u001b[0mkwargs\u001b[0m\u001b[1;33m)\u001b[0m\u001b[1;33m\u001b[0m\u001b[1;33m\u001b[0m\u001b[0m\n\u001b[1;32m---> 61\u001b[1;33m     \u001b[0mplot_obj\u001b[0m\u001b[1;33m.\u001b[0m\u001b[0mgenerate\u001b[0m\u001b[1;33m(\u001b[0m\u001b[1;33m)\u001b[0m\u001b[1;33m\u001b[0m\u001b[1;33m\u001b[0m\u001b[0m\n\u001b[0m\u001b[0;32m     62\u001b[0m     \u001b[0mplot_obj\u001b[0m\u001b[1;33m.\u001b[0m\u001b[0mdraw\u001b[0m\u001b[1;33m(\u001b[0m\u001b[1;33m)\u001b[0m\u001b[1;33m\u001b[0m\u001b[1;33m\u001b[0m\u001b[0m\n\u001b[0;32m     63\u001b[0m     \u001b[1;32mreturn\u001b[0m \u001b[0mplot_obj\u001b[0m\u001b[1;33m.\u001b[0m\u001b[0mresult\u001b[0m\u001b[1;33m\u001b[0m\u001b[1;33m\u001b[0m\u001b[0m\n",
      "\u001b[1;32m~\\anaconda3\\envs\\labtext\\lib\\site-packages\\pandas\\plotting\\_matplotlib\\core.py\u001b[0m in \u001b[0;36mgenerate\u001b[1;34m(self)\u001b[0m\n\u001b[0;32m    278\u001b[0m         \u001b[0mself\u001b[0m\u001b[1;33m.\u001b[0m\u001b[0m_compute_plot_data\u001b[0m\u001b[1;33m(\u001b[0m\u001b[1;33m)\u001b[0m\u001b[1;33m\u001b[0m\u001b[1;33m\u001b[0m\u001b[0m\n\u001b[0;32m    279\u001b[0m         \u001b[0mself\u001b[0m\u001b[1;33m.\u001b[0m\u001b[0m_setup_subplots\u001b[0m\u001b[1;33m(\u001b[0m\u001b[1;33m)\u001b[0m\u001b[1;33m\u001b[0m\u001b[1;33m\u001b[0m\u001b[0m\n\u001b[1;32m--> 280\u001b[1;33m         \u001b[0mself\u001b[0m\u001b[1;33m.\u001b[0m\u001b[0m_make_plot\u001b[0m\u001b[1;33m(\u001b[0m\u001b[1;33m)\u001b[0m\u001b[1;33m\u001b[0m\u001b[1;33m\u001b[0m\u001b[0m\n\u001b[0m\u001b[0;32m    281\u001b[0m         \u001b[0mself\u001b[0m\u001b[1;33m.\u001b[0m\u001b[0m_add_table\u001b[0m\u001b[1;33m(\u001b[0m\u001b[1;33m)\u001b[0m\u001b[1;33m\u001b[0m\u001b[1;33m\u001b[0m\u001b[0m\n\u001b[0;32m    282\u001b[0m         \u001b[0mself\u001b[0m\u001b[1;33m.\u001b[0m\u001b[0m_make_legend\u001b[0m\u001b[1;33m(\u001b[0m\u001b[1;33m)\u001b[0m\u001b[1;33m\u001b[0m\u001b[1;33m\u001b[0m\u001b[0m\n",
      "\u001b[1;32m~\\anaconda3\\envs\\labtext\\lib\\site-packages\\pandas\\plotting\\_matplotlib\\core.py\u001b[0m in \u001b[0;36m_make_plot\u001b[1;34m(self)\u001b[0m\n\u001b[0;32m   1147\u001b[0m             \u001b[0mkwds\u001b[0m\u001b[1;33m[\u001b[0m\u001b[1;34m\"label\"\u001b[0m\u001b[1;33m]\u001b[0m \u001b[1;33m=\u001b[0m \u001b[0mlabel\u001b[0m\u001b[1;33m\u001b[0m\u001b[1;33m\u001b[0m\u001b[0m\n\u001b[0;32m   1148\u001b[0m \u001b[1;33m\u001b[0m\u001b[0m\n\u001b[1;32m-> 1149\u001b[1;33m             newlines = plotf(\n\u001b[0m\u001b[0;32m   1150\u001b[0m                 \u001b[0max\u001b[0m\u001b[1;33m,\u001b[0m\u001b[1;33m\u001b[0m\u001b[1;33m\u001b[0m\u001b[0m\n\u001b[0;32m   1151\u001b[0m                 \u001b[0mx\u001b[0m\u001b[1;33m,\u001b[0m\u001b[1;33m\u001b[0m\u001b[1;33m\u001b[0m\u001b[0m\n",
      "\u001b[1;32m~\\anaconda3\\envs\\labtext\\lib\\site-packages\\pandas\\plotting\\_matplotlib\\core.py\u001b[0m in \u001b[0;36m_plot\u001b[1;34m(cls, ax, x, y, style, column_num, stacking_id, **kwds)\u001b[0m\n\u001b[0;32m   1176\u001b[0m             \u001b[0mcls\u001b[0m\u001b[1;33m.\u001b[0m\u001b[0m_initialize_stacker\u001b[0m\u001b[1;33m(\u001b[0m\u001b[0max\u001b[0m\u001b[1;33m,\u001b[0m \u001b[0mstacking_id\u001b[0m\u001b[1;33m,\u001b[0m \u001b[0mlen\u001b[0m\u001b[1;33m(\u001b[0m\u001b[0my\u001b[0m\u001b[1;33m)\u001b[0m\u001b[1;33m)\u001b[0m\u001b[1;33m\u001b[0m\u001b[1;33m\u001b[0m\u001b[0m\n\u001b[0;32m   1177\u001b[0m         \u001b[0my_values\u001b[0m \u001b[1;33m=\u001b[0m \u001b[0mcls\u001b[0m\u001b[1;33m.\u001b[0m\u001b[0m_get_stacked_values\u001b[0m\u001b[1;33m(\u001b[0m\u001b[0max\u001b[0m\u001b[1;33m,\u001b[0m \u001b[0mstacking_id\u001b[0m\u001b[1;33m,\u001b[0m \u001b[0my\u001b[0m\u001b[1;33m,\u001b[0m \u001b[0mkwds\u001b[0m\u001b[1;33m[\u001b[0m\u001b[1;34m\"label\"\u001b[0m\u001b[1;33m]\u001b[0m\u001b[1;33m)\u001b[0m\u001b[1;33m\u001b[0m\u001b[1;33m\u001b[0m\u001b[0m\n\u001b[1;32m-> 1178\u001b[1;33m         \u001b[0mlines\u001b[0m \u001b[1;33m=\u001b[0m \u001b[0mMPLPlot\u001b[0m\u001b[1;33m.\u001b[0m\u001b[0m_plot\u001b[0m\u001b[1;33m(\u001b[0m\u001b[0max\u001b[0m\u001b[1;33m,\u001b[0m \u001b[0mx\u001b[0m\u001b[1;33m,\u001b[0m \u001b[0my_values\u001b[0m\u001b[1;33m,\u001b[0m \u001b[0mstyle\u001b[0m\u001b[1;33m=\u001b[0m\u001b[0mstyle\u001b[0m\u001b[1;33m,\u001b[0m \u001b[1;33m**\u001b[0m\u001b[0mkwds\u001b[0m\u001b[1;33m)\u001b[0m\u001b[1;33m\u001b[0m\u001b[1;33m\u001b[0m\u001b[0m\n\u001b[0m\u001b[0;32m   1179\u001b[0m         \u001b[0mcls\u001b[0m\u001b[1;33m.\u001b[0m\u001b[0m_update_stacker\u001b[0m\u001b[1;33m(\u001b[0m\u001b[0max\u001b[0m\u001b[1;33m,\u001b[0m \u001b[0mstacking_id\u001b[0m\u001b[1;33m,\u001b[0m \u001b[0my\u001b[0m\u001b[1;33m)\u001b[0m\u001b[1;33m\u001b[0m\u001b[1;33m\u001b[0m\u001b[0m\n\u001b[0;32m   1180\u001b[0m         \u001b[1;32mreturn\u001b[0m \u001b[0mlines\u001b[0m\u001b[1;33m\u001b[0m\u001b[1;33m\u001b[0m\u001b[0m\n",
      "\u001b[1;32m~\\anaconda3\\envs\\labtext\\lib\\site-packages\\pandas\\plotting\\_matplotlib\\converter.py\u001b[0m in \u001b[0;36mwrapper\u001b[1;34m(*args, **kwargs)\u001b[0m\n\u001b[0;32m     64\u001b[0m     \u001b[1;32mdef\u001b[0m \u001b[0mwrapper\u001b[0m\u001b[1;33m(\u001b[0m\u001b[1;33m*\u001b[0m\u001b[0margs\u001b[0m\u001b[1;33m,\u001b[0m \u001b[1;33m**\u001b[0m\u001b[0mkwargs\u001b[0m\u001b[1;33m)\u001b[0m\u001b[1;33m:\u001b[0m\u001b[1;33m\u001b[0m\u001b[1;33m\u001b[0m\u001b[0m\n\u001b[0;32m     65\u001b[0m         \u001b[1;32mwith\u001b[0m \u001b[0mpandas_converters\u001b[0m\u001b[1;33m(\u001b[0m\u001b[1;33m)\u001b[0m\u001b[1;33m:\u001b[0m\u001b[1;33m\u001b[0m\u001b[1;33m\u001b[0m\u001b[0m\n\u001b[1;32m---> 66\u001b[1;33m             \u001b[1;32mreturn\u001b[0m \u001b[0mfunc\u001b[0m\u001b[1;33m(\u001b[0m\u001b[1;33m*\u001b[0m\u001b[0margs\u001b[0m\u001b[1;33m,\u001b[0m \u001b[1;33m**\u001b[0m\u001b[0mkwargs\u001b[0m\u001b[1;33m)\u001b[0m\u001b[1;33m\u001b[0m\u001b[1;33m\u001b[0m\u001b[0m\n\u001b[0m\u001b[0;32m     67\u001b[0m \u001b[1;33m\u001b[0m\u001b[0m\n\u001b[0;32m     68\u001b[0m     \u001b[1;32mreturn\u001b[0m \u001b[0mwrapper\u001b[0m\u001b[1;33m\u001b[0m\u001b[1;33m\u001b[0m\u001b[0m\n",
      "\u001b[1;32m~\\anaconda3\\envs\\labtext\\lib\\site-packages\\pandas\\plotting\\_matplotlib\\core.py\u001b[0m in \u001b[0;36m_plot\u001b[1;34m(cls, ax, x, y, style, is_errorbar, **kwds)\u001b[0m\n\u001b[0;32m    695\u001b[0m             \u001b[1;32melse\u001b[0m\u001b[1;33m:\u001b[0m\u001b[1;33m\u001b[0m\u001b[1;33m\u001b[0m\u001b[0m\n\u001b[0;32m    696\u001b[0m                 \u001b[0margs\u001b[0m \u001b[1;33m=\u001b[0m \u001b[1;33m(\u001b[0m\u001b[0mx\u001b[0m\u001b[1;33m,\u001b[0m \u001b[0my\u001b[0m\u001b[1;33m)\u001b[0m  \u001b[1;31m# type: ignore[assignment]\u001b[0m\u001b[1;33m\u001b[0m\u001b[1;33m\u001b[0m\u001b[0m\n\u001b[1;32m--> 697\u001b[1;33m             \u001b[1;32mreturn\u001b[0m \u001b[0max\u001b[0m\u001b[1;33m.\u001b[0m\u001b[0mplot\u001b[0m\u001b[1;33m(\u001b[0m\u001b[1;33m*\u001b[0m\u001b[0margs\u001b[0m\u001b[1;33m,\u001b[0m \u001b[1;33m**\u001b[0m\u001b[0mkwds\u001b[0m\u001b[1;33m)\u001b[0m\u001b[1;33m\u001b[0m\u001b[1;33m\u001b[0m\u001b[0m\n\u001b[0m\u001b[0;32m    698\u001b[0m \u001b[1;33m\u001b[0m\u001b[0m\n\u001b[0;32m    699\u001b[0m     \u001b[1;32mdef\u001b[0m \u001b[0m_get_index_name\u001b[0m\u001b[1;33m(\u001b[0m\u001b[0mself\u001b[0m\u001b[1;33m)\u001b[0m \u001b[1;33m->\u001b[0m \u001b[0mOptional\u001b[0m\u001b[1;33m[\u001b[0m\u001b[0mstr\u001b[0m\u001b[1;33m]\u001b[0m\u001b[1;33m:\u001b[0m\u001b[1;33m\u001b[0m\u001b[1;33m\u001b[0m\u001b[0m\n",
      "\u001b[1;32m~\\anaconda3\\envs\\labtext\\lib\\site-packages\\matplotlib\\axes\\_axes.py\u001b[0m in \u001b[0;36mplot\u001b[1;34m(self, scalex, scaley, data, *args, **kwargs)\u001b[0m\n\u001b[0;32m   1741\u001b[0m         \"\"\"\n\u001b[0;32m   1742\u001b[0m         \u001b[0mkwargs\u001b[0m \u001b[1;33m=\u001b[0m \u001b[0mcbook\u001b[0m\u001b[1;33m.\u001b[0m\u001b[0mnormalize_kwargs\u001b[0m\u001b[1;33m(\u001b[0m\u001b[0mkwargs\u001b[0m\u001b[1;33m,\u001b[0m \u001b[0mmlines\u001b[0m\u001b[1;33m.\u001b[0m\u001b[0mLine2D\u001b[0m\u001b[1;33m)\u001b[0m\u001b[1;33m\u001b[0m\u001b[1;33m\u001b[0m\u001b[0m\n\u001b[1;32m-> 1743\u001b[1;33m         \u001b[0mlines\u001b[0m \u001b[1;33m=\u001b[0m \u001b[1;33m[\u001b[0m\u001b[1;33m*\u001b[0m\u001b[0mself\u001b[0m\u001b[1;33m.\u001b[0m\u001b[0m_get_lines\u001b[0m\u001b[1;33m(\u001b[0m\u001b[1;33m*\u001b[0m\u001b[0margs\u001b[0m\u001b[1;33m,\u001b[0m \u001b[0mdata\u001b[0m\u001b[1;33m=\u001b[0m\u001b[0mdata\u001b[0m\u001b[1;33m,\u001b[0m \u001b[1;33m**\u001b[0m\u001b[0mkwargs\u001b[0m\u001b[1;33m)\u001b[0m\u001b[1;33m]\u001b[0m\u001b[1;33m\u001b[0m\u001b[1;33m\u001b[0m\u001b[0m\n\u001b[0m\u001b[0;32m   1744\u001b[0m         \u001b[1;32mfor\u001b[0m \u001b[0mline\u001b[0m \u001b[1;32min\u001b[0m \u001b[0mlines\u001b[0m\u001b[1;33m:\u001b[0m\u001b[1;33m\u001b[0m\u001b[1;33m\u001b[0m\u001b[0m\n\u001b[0;32m   1745\u001b[0m             \u001b[0mself\u001b[0m\u001b[1;33m.\u001b[0m\u001b[0madd_line\u001b[0m\u001b[1;33m(\u001b[0m\u001b[0mline\u001b[0m\u001b[1;33m)\u001b[0m\u001b[1;33m\u001b[0m\u001b[1;33m\u001b[0m\u001b[0m\n",
      "\u001b[1;32m~\\anaconda3\\envs\\labtext\\lib\\site-packages\\matplotlib\\axes\\_base.py\u001b[0m in \u001b[0;36m__call__\u001b[1;34m(self, data, *args, **kwargs)\u001b[0m\n\u001b[0;32m    271\u001b[0m                 \u001b[0mthis\u001b[0m \u001b[1;33m+=\u001b[0m \u001b[0margs\u001b[0m\u001b[1;33m[\u001b[0m\u001b[1;36m0\u001b[0m\u001b[1;33m]\u001b[0m\u001b[1;33m,\u001b[0m\u001b[1;33m\u001b[0m\u001b[1;33m\u001b[0m\u001b[0m\n\u001b[0;32m    272\u001b[0m                 \u001b[0margs\u001b[0m \u001b[1;33m=\u001b[0m \u001b[0margs\u001b[0m\u001b[1;33m[\u001b[0m\u001b[1;36m1\u001b[0m\u001b[1;33m:\u001b[0m\u001b[1;33m]\u001b[0m\u001b[1;33m\u001b[0m\u001b[1;33m\u001b[0m\u001b[0m\n\u001b[1;32m--> 273\u001b[1;33m             \u001b[1;32myield\u001b[0m \u001b[1;32mfrom\u001b[0m \u001b[0mself\u001b[0m\u001b[1;33m.\u001b[0m\u001b[0m_plot_args\u001b[0m\u001b[1;33m(\u001b[0m\u001b[0mthis\u001b[0m\u001b[1;33m,\u001b[0m \u001b[0mkwargs\u001b[0m\u001b[1;33m)\u001b[0m\u001b[1;33m\u001b[0m\u001b[1;33m\u001b[0m\u001b[0m\n\u001b[0m\u001b[0;32m    274\u001b[0m \u001b[1;33m\u001b[0m\u001b[0m\n\u001b[0;32m    275\u001b[0m     \u001b[1;32mdef\u001b[0m \u001b[0mget_next_color\u001b[0m\u001b[1;33m(\u001b[0m\u001b[0mself\u001b[0m\u001b[1;33m)\u001b[0m\u001b[1;33m:\u001b[0m\u001b[1;33m\u001b[0m\u001b[1;33m\u001b[0m\u001b[0m\n",
      "\u001b[1;32m~\\anaconda3\\envs\\labtext\\lib\\site-packages\\matplotlib\\axes\\_base.py\u001b[0m in \u001b[0;36m_plot_args\u001b[1;34m(self, tup, kwargs)\u001b[0m\n\u001b[0;32m    416\u001b[0m         \u001b[1;32mif\u001b[0m \u001b[0mncx\u001b[0m \u001b[1;33m>\u001b[0m \u001b[1;36m1\u001b[0m \u001b[1;32mand\u001b[0m \u001b[0mncy\u001b[0m \u001b[1;33m>\u001b[0m \u001b[1;36m1\u001b[0m \u001b[1;32mand\u001b[0m \u001b[0mncx\u001b[0m \u001b[1;33m!=\u001b[0m \u001b[0mncy\u001b[0m\u001b[1;33m:\u001b[0m\u001b[1;33m\u001b[0m\u001b[1;33m\u001b[0m\u001b[0m\n\u001b[0;32m    417\u001b[0m             \u001b[1;32mraise\u001b[0m \u001b[0mValueError\u001b[0m\u001b[1;33m(\u001b[0m\u001b[1;34mf\"x has {ncx} columns but y has {ncy} columns\"\u001b[0m\u001b[1;33m)\u001b[0m\u001b[1;33m\u001b[0m\u001b[1;33m\u001b[0m\u001b[0m\n\u001b[1;32m--> 418\u001b[1;33m         return [func(x[:, j % ncx], y[:, j % ncy], kw, kwargs)\n\u001b[0m\u001b[0;32m    419\u001b[0m                 for j in range(max(ncx, ncy))]\n\u001b[0;32m    420\u001b[0m \u001b[1;33m\u001b[0m\u001b[0m\n",
      "\u001b[1;32m~\\anaconda3\\envs\\labtext\\lib\\site-packages\\matplotlib\\axes\\_base.py\u001b[0m in \u001b[0;36m<listcomp>\u001b[1;34m(.0)\u001b[0m\n\u001b[0;32m    416\u001b[0m         \u001b[1;32mif\u001b[0m \u001b[0mncx\u001b[0m \u001b[1;33m>\u001b[0m \u001b[1;36m1\u001b[0m \u001b[1;32mand\u001b[0m \u001b[0mncy\u001b[0m \u001b[1;33m>\u001b[0m \u001b[1;36m1\u001b[0m \u001b[1;32mand\u001b[0m \u001b[0mncx\u001b[0m \u001b[1;33m!=\u001b[0m \u001b[0mncy\u001b[0m\u001b[1;33m:\u001b[0m\u001b[1;33m\u001b[0m\u001b[1;33m\u001b[0m\u001b[0m\n\u001b[0;32m    417\u001b[0m             \u001b[1;32mraise\u001b[0m \u001b[0mValueError\u001b[0m\u001b[1;33m(\u001b[0m\u001b[1;34mf\"x has {ncx} columns but y has {ncy} columns\"\u001b[0m\u001b[1;33m)\u001b[0m\u001b[1;33m\u001b[0m\u001b[1;33m\u001b[0m\u001b[0m\n\u001b[1;32m--> 418\u001b[1;33m         return [func(x[:, j % ncx], y[:, j % ncy], kw, kwargs)\n\u001b[0m\u001b[0;32m    419\u001b[0m                 for j in range(max(ncx, ncy))]\n\u001b[0;32m    420\u001b[0m \u001b[1;33m\u001b[0m\u001b[0m\n",
      "\u001b[1;32m~\\anaconda3\\envs\\labtext\\lib\\site-packages\\matplotlib\\axes\\_base.py\u001b[0m in \u001b[0;36m_makeline\u001b[1;34m(self, x, y, kw, kwargs)\u001b[0m\n\u001b[0;32m    310\u001b[0m         \u001b[0mdefault_dict\u001b[0m \u001b[1;33m=\u001b[0m \u001b[0mself\u001b[0m\u001b[1;33m.\u001b[0m\u001b[0m_getdefaults\u001b[0m\u001b[1;33m(\u001b[0m\u001b[0mset\u001b[0m\u001b[1;33m(\u001b[0m\u001b[1;33m)\u001b[0m\u001b[1;33m,\u001b[0m \u001b[0mkw\u001b[0m\u001b[1;33m)\u001b[0m\u001b[1;33m\u001b[0m\u001b[1;33m\u001b[0m\u001b[0m\n\u001b[0;32m    311\u001b[0m         \u001b[0mself\u001b[0m\u001b[1;33m.\u001b[0m\u001b[0m_setdefaults\u001b[0m\u001b[1;33m(\u001b[0m\u001b[0mdefault_dict\u001b[0m\u001b[1;33m,\u001b[0m \u001b[0mkw\u001b[0m\u001b[1;33m)\u001b[0m\u001b[1;33m\u001b[0m\u001b[1;33m\u001b[0m\u001b[0m\n\u001b[1;32m--> 312\u001b[1;33m         \u001b[0mseg\u001b[0m \u001b[1;33m=\u001b[0m \u001b[0mmlines\u001b[0m\u001b[1;33m.\u001b[0m\u001b[0mLine2D\u001b[0m\u001b[1;33m(\u001b[0m\u001b[0mx\u001b[0m\u001b[1;33m,\u001b[0m \u001b[0my\u001b[0m\u001b[1;33m,\u001b[0m \u001b[1;33m**\u001b[0m\u001b[0mkw\u001b[0m\u001b[1;33m)\u001b[0m\u001b[1;33m\u001b[0m\u001b[1;33m\u001b[0m\u001b[0m\n\u001b[0m\u001b[0;32m    313\u001b[0m         \u001b[1;32mreturn\u001b[0m \u001b[0mseg\u001b[0m\u001b[1;33m\u001b[0m\u001b[1;33m\u001b[0m\u001b[0m\n\u001b[0;32m    314\u001b[0m \u001b[1;33m\u001b[0m\u001b[0m\n",
      "\u001b[1;32m~\\anaconda3\\envs\\labtext\\lib\\site-packages\\matplotlib\\lines.py\u001b[0m in \u001b[0;36m__init__\u001b[1;34m(self, xdata, ydata, linewidth, linestyle, color, marker, markersize, markeredgewidth, markeredgecolor, markerfacecolor, markerfacecoloralt, fillstyle, antialiased, dash_capstyle, solid_capstyle, dash_joinstyle, solid_joinstyle, pickradius, drawstyle, markevery, **kwargs)\u001b[0m\n\u001b[0;32m    388\u001b[0m         \u001b[1;31m# update kwargs before updating data to give the caller a\u001b[0m\u001b[1;33m\u001b[0m\u001b[1;33m\u001b[0m\u001b[1;33m\u001b[0m\u001b[0m\n\u001b[0;32m    389\u001b[0m         \u001b[1;31m# chance to init axes (and hence unit support)\u001b[0m\u001b[1;33m\u001b[0m\u001b[1;33m\u001b[0m\u001b[1;33m\u001b[0m\u001b[0m\n\u001b[1;32m--> 390\u001b[1;33m         \u001b[0mself\u001b[0m\u001b[1;33m.\u001b[0m\u001b[0mupdate\u001b[0m\u001b[1;33m(\u001b[0m\u001b[0mkwargs\u001b[0m\u001b[1;33m)\u001b[0m\u001b[1;33m\u001b[0m\u001b[1;33m\u001b[0m\u001b[0m\n\u001b[0m\u001b[0;32m    391\u001b[0m         \u001b[0mself\u001b[0m\u001b[1;33m.\u001b[0m\u001b[0mpickradius\u001b[0m \u001b[1;33m=\u001b[0m \u001b[0mpickradius\u001b[0m\u001b[1;33m\u001b[0m\u001b[1;33m\u001b[0m\u001b[0m\n\u001b[0;32m    392\u001b[0m         \u001b[0mself\u001b[0m\u001b[1;33m.\u001b[0m\u001b[0mind_offset\u001b[0m \u001b[1;33m=\u001b[0m \u001b[1;36m0\u001b[0m\u001b[1;33m\u001b[0m\u001b[1;33m\u001b[0m\u001b[0m\n",
      "\u001b[1;32m~\\anaconda3\\envs\\labtext\\lib\\site-packages\\matplotlib\\artist.py\u001b[0m in \u001b[0;36mupdate\u001b[1;34m(self, props)\u001b[0m\n\u001b[0;32m    994\u001b[0m                     \u001b[0mfunc\u001b[0m \u001b[1;33m=\u001b[0m \u001b[0mgetattr\u001b[0m\u001b[1;33m(\u001b[0m\u001b[0mself\u001b[0m\u001b[1;33m,\u001b[0m \u001b[1;34mf\"set_{k}\"\u001b[0m\u001b[1;33m,\u001b[0m \u001b[1;32mNone\u001b[0m\u001b[1;33m)\u001b[0m\u001b[1;33m\u001b[0m\u001b[1;33m\u001b[0m\u001b[0m\n\u001b[0;32m    995\u001b[0m                     \u001b[1;32mif\u001b[0m \u001b[1;32mnot\u001b[0m \u001b[0mcallable\u001b[0m\u001b[1;33m(\u001b[0m\u001b[0mfunc\u001b[0m\u001b[1;33m)\u001b[0m\u001b[1;33m:\u001b[0m\u001b[1;33m\u001b[0m\u001b[1;33m\u001b[0m\u001b[0m\n\u001b[1;32m--> 996\u001b[1;33m                         raise AttributeError(f\"{type(self).__name__!r} object \"\n\u001b[0m\u001b[0;32m    997\u001b[0m                                              f\"has no property {k!r}\")\n\u001b[0;32m    998\u001b[0m                     \u001b[0mret\u001b[0m\u001b[1;33m.\u001b[0m\u001b[0mappend\u001b[0m\u001b[1;33m(\u001b[0m\u001b[0mfunc\u001b[0m\u001b[1;33m(\u001b[0m\u001b[0mv\u001b[0m\u001b[1;33m)\u001b[0m\u001b[1;33m)\u001b[0m\u001b[1;33m\u001b[0m\u001b[1;33m\u001b[0m\u001b[0m\n",
      "\u001b[1;31mAttributeError\u001b[0m: 'Line2D' object has no property 'encoding'"
     ]
    },
    {
     "data": {
      "image/png": "[encoded data removed]",
      "text/plain": [
       "<Figure size 432x288 with 1 Axes>"
      ]
     },
     "metadata": {
      "needs_background": "light"
     },
     "output_type": "display_data"
    },
    {
     "data": {
      "image/png": "[encoded data removed]",
      "text/plain": [
       "<Figure size 432x288 with 1 Axes>"
      ]
     },
     "metadata": {
      "needs_background": "light"
     },
     "output_type": "display_data"
    }
   ],
   "source": [
    "#建立DataFrame物件\n",
    "import pandas as pd\n",
    "dists={\"name\":[\"中正區\",\"板橋區\",\"桃園區\",\"北屯區\",\n",
    "    \"安南區\",\"三民區\",\"大安區\",\"永和區\",\n",
    "    \"八德區\",\"前鎮區\",\"鳳山區\",\n",
    "    \"信義區\",\"新店區\"],\n",
    "    \"population\": [159598, 551452, 441287, 275207,\n",
    "    192327,343203, 309835, 222531,\n",
    "    198473, 189623,359125,\n",
    "    225561,302070],\n",
    "    \"city\":[\"台北市\",\"新北市\",\"桃園市\",\"台中市\",\n",
    "    \"台南市\",\"高雄市\",\"台北市\",\"新北市\",\n",
    "    \"桃園市\",\"高雄市\",\"高雄市\",\n",
    "    \"台北市\",\"新北市\"]}\n",
    "\n",
    "#建立自訂索引DataFrame物件\n",
    "ordinals =[\"first\", \"second\", \"third\", \"fourth\", \"fifth\",\n",
    "\"sixth\", \"seventh\", \"eigth\", \"ninth\", \"tenth\",\n",
    "\"eleventh\", \"twelvth\", \"thirteenth\"]\n",
    "df = pd.DataFrame(dists) #建立DataFrame物件\n",
    "df.to_csv(\"dists.csv\",encoding=\"utf8\") \n",
    "print(df)\n",
    "\n",
    "#使用DataFrame物件繪製折線圖df.plot()\n",
    "df.plot()\n",
    "\n",
    "#顯示完整x軸標籤的折線圖\n",
    "df2 = pd.DataFrame(dists,columns=[\"population\"],index=dists[\"name\"])\n",
    "df2.plot(xticks=range(len(df2.index)),use_index=True)\n",
    "df2.plot(xticks=range(len(df2.index)),use_index= True,rot=90)\n",
    "\n",
    "df2 = pd.DataFrame(dists) #建立自訂索引DataFrame物件\n",
    "df2.index = ordinals\n",
    "print(df2)\n",
    "\n",
    "#重新指定DataFrame物件的欄位順序\n",
    "df3=pd.DataFrame(dists,columns=[\"name\",\"city\",\"population\"],index=ordinals)\n",
    "print(df3) #重新指定DataFrame物件的欄位順序\n",
    "\n",
    "#使用存在欄位作為索引標籤\n",
    "df4 = pd.DataFrame(dists,columns = [\"name\", \"population\"],index = dists[\"city\"])\n",
    "print(df4) #使用存在欄位作為索引標籤\n",
    "\n",
    "\n",
    "\n",
    "#轉置DataFrame物件\n",
    "print(df.T)\n",
    "\n",
    "#顯示 df.head()\n",
    "print(df.head()) #顯示前五筆\n",
    "print(df.head(3))\n",
    "print(df.tail()) #顯示後五筆\n",
    "print(df.tail(3))\n",
    "\n",
    "#顯示自訂的欄位標籤、索引、欄位、資料\n",
    "df.columns=[\"直轄市\",\"區\",\"人\"]\n",
    "print(df.head(4))\n",
    "print(df.index)\n",
    "print(df.columns)\n",
    "print(df.values)\n",
    "print(\"資料數=\",len(df))\n",
    "print(\"形狀:\",df.shape)\n",
    "df.info()\n",
    "\n",
    "#走訪DataFrame物件df.iterrows()\n",
    "for index, row in df.iterrows() :\n",
    "    print(index, row[\"直轄市\"], row[\"區\"], row[\"人\"])\n",
    "    \n",
    "#指定和重設欄位索引 df.set_index()\n",
    "df2 = df.set_index(\"直轄市\")\n",
    "print(df2.head())\n",
    "df3 = df2.reset_index()\n",
    "print(df3.head())\n",
    "df2 = df.set_index([\"直轄市\", \"區\"])\n",
    "df2.sort_index(ascending=False, inplace=True)\n",
    "print(df2)\n",
    "\n",
    "del dists,df,df2,df3,df4"
   ]
  },
  {
   "cell_type": "code",
   "execution_count": null,
   "id": "dae0340a",
   "metadata": {},
   "outputs": [],
   "source": [
    "# pd.to_csv(filename) 匯出成CSV格式的檔案\n",
    "# pd.to_json(filename) 匯出成JSON格式的檔案\n",
    "# pd.to_htm(filename) 匯出成HTM表格標的檔案\n",
    "# pd.to_excel(filename) 匯出成Excel檔案\n",
    "# pd.read_csv(filename) 匯入CSV格式的檔案\n",
    "# pd.read_json(filename) 匯入JSON格式的檔案\n",
    "# pd.read_htm(filename) 匯入HTM檔案・Pandas會抽出table表格標籤的資料\n",
    "# pd.read_excel(filename) 匯入Excel檔案"
   ]
  },
  {
   "cell_type": "code",
   "execution_count": 74,
   "id": "a80e4c80",
   "metadata": {},
   "outputs": [
    {
     "name": "stdout",
     "output_type": "stream",
     "text": [
      "Unnamed: 0         1\n",
      "name             板橋區\n",
      "population    551452\n",
      "city             新北市\n",
      "Name: second, dtype: object\n",
      "<class 'pandas.core.series.Series'>\n"
     ]
    }
   ],
   "source": [
    "#選擇資料\n",
    "df = pd.read_csv(\"dists.csv\", encoding=\"utf8\")\n",
    "ordinals =[\"first\", \"second\", \"third\", \"fourth\", \"fifth\",\n",
    "\"sixth\", \"seventh\", \"eigth\", \"ninth\", \"tenth\",\n",
    "\"eleventh\", \"twelvth\", \"thirteenth\"]\n",
    "df.index = ordinals\n",
    "\n",
    "# #選擇單一欄位或多個欄位\n",
    "# print(df[\"population\"].head(3))\n",
    "# print(df.population.head(3))\n",
    "# print(df[[\"city\",\"name\"]].head(3))\n",
    "\n",
    "# #選擇特定範圍的多筆資料\n",
    "# print(df[0:3])\n",
    "# print(df[\"sixth\":\"eleventh\"])\n",
    "\n",
    "#使用標籤選擇資料 df.loc[index,column]\n",
    "# print(df.loc[ordinals[1]])\n",
    "# print(type(df.loc[ordinals[1]]))\n",
    "# print(df.loc[:,[\"name\",\"population\"]].head(1))\n",
    "# print(df.loc[\"third\":\"fifth\", [\"name\",\"population\"]])\n",
    "# print(df.loc[\"third\", [\"name\", \"population\"]])\n",
    "# print(df.loc[ordinals[0], \"name\"])\n",
    "# print(type(df.loc[ordinals[0], \"name\"]))\n",
    "# print(df.loc[\"first\", \"population\"])\n",
    "# print(type(df.loc[\"first\",\"population\"]))\n",
    "\n",
    "#使用欄位選擇資料 df.iloc[row_index,column_index] df.iat[]\n",
    "# print(df.iloc[3]) #第4筆\n",
    "# print()\n",
    "# print(df.iloc[3:5,1:3])#切割\n",
    "# print()\n",
    "# print(df.iloc[1:3,:1]) #切割列\n",
    "# print()\n",
    "# print(df.iloc[:,1:3])#切割欄\n",
    "# print()\n",
    "# print(df.iloc[[1,2,4],[0,2]])#索引清單\n",
    "# print()\n",
    "# print(df.iloc[1,1])\n",
    "# print()\n",
    "# print(df.iat[1,1])\n",
    "\n",
    "del df,ordinals"
   ]
  },
  {
   "cell_type": "code",
   "execution_count": 58,
   "id": "18a586fe",
   "metadata": {},
   "outputs": [
    {
     "name": "stdout",
     "output_type": "stream",
     "text": [
      "          Unnamed: 0 name  population city\n",
      "second             1  板橋區      551452  新北市\n",
      "third              2  桃園區      441287  桃園市\n",
      "eleventh          10  鳳山區      359125  高雄市\n",
      "          Unnamed: 0 name  population city\n",
      "first              0  中正區      159598  台北市\n",
      "sixth              5  三民區      343203  高雄市\n",
      "seventh            6  大安區      309835  台北市\n",
      "tenth              9  前鎮區      189623  高雄市\n",
      "eleventh          10  鳳山區      359125  高雄市\n",
      "twelvth           11  信義區      225561  台北市\n",
      "          Unnamed: 0 name  population city\n",
      "third              2  桃園區      441287  桃園市\n",
      "eleventh          10  鳳山區      359125  高雄市\n",
      "         Unnamed: 0 name  population city\n",
      "first             0  中正區      159598  台北市\n",
      "fourth            3  北屯區      275207  台中市\n",
      "fifth             4  安南區      192327  台南市\n",
      "seventh           6  大安區      309835  台北市\n",
      "twelvth          11  信義區      225561  台北市\n"
     ]
    }
   ],
   "source": [
    "#過濾資料\n",
    "df = pd.read_csv(\"dists.csv\", encoding=\"utf8\")\n",
    "ordinals =[\"first\", \"second\", \"third\", \"fourth\", \"fifth\",\n",
    "\"sixth\", \"seventh\", \"eigth\", \"ninth\", \"tenth\",\n",
    "\"eleventh\", \"twelvth\", \"thirteenth\"]\n",
    "df.index = ordinals\n",
    "\n",
    "#使用布林索引和isin()函數過濾資料\n",
    "print(df[df.population > 350000])\n",
    "print(df[df[\"city\"].isin([\"台北市\",\"高雄市\"])])\n",
    "print(df[(df.population > 350000) & (df.population<500000)])\n",
    "print(df[df[\"city\"].str.startswith(\"台\")])\n",
    "del df,ordinals"
   ]
  },
  {
   "cell_type": "code",
   "execution_count": 62,
   "id": "3a481297",
   "metadata": {},
   "outputs": [
    {
     "name": "stdout",
     "output_type": "stream",
     "text": [
      "          Unnamed: 0 name  population city\n",
      "second             1  板橋區      551452  新北市\n",
      "third              2  桃園區      441287  桃園市\n",
      "eleventh          10  鳳山區      359125  高雄市\n",
      "sixth              5  三民區      343203  高雄市\n",
      "seventh            6  大安區      309835  台北市\n",
      "         Unnamed: 0 name  population city\n",
      "fourth            3  北屯區      275207  台中市\n",
      "first             0  中正區      159598  台北市\n",
      "twelvth          11  信義區      225561  台北市\n",
      "seventh           6  大安區      309835  台北市\n",
      "fifth             4  安南區      192327  台南市\n"
     ]
    }
   ],
   "source": [
    "#排序資料\n",
    "df = pd.read_csv(\"dists.csv\", encoding=\"utf8\")\n",
    "ordinals =[\"first\", \"second\", \"third\", \"fourth\", \"fifth\",\n",
    "\"sixth\", \"seventh\", \"eigth\", \"ninth\", \"tenth\",\n",
    "\"eleventh\", \"twelvth\", \"thirteenth\"]\n",
    "df.index = ordinals\n",
    "\n",
    "#指定索引欄位排序 df.sort_index(ascending=False, inplace=True)\n",
    "#ascending 默认true 升序\n",
    "#inplace 是否更新原DataFrame排序\n",
    "# df2 = df.set_index(\"population\")\n",
    "# print(df2.head())\n",
    "# df2.sort_index(ascending=False, inplace=True)\n",
    "# print(df2.head())\n",
    "\n",
    "#指定欄位值排序 \n",
    "df2 = df.sort_values(\"population\", ascending=False)\n",
    "print(df2.head())\n",
    "df.sort_values([\"city\", \"population\"], inplace=True)\n",
    "print(df.head())\n",
    "del df,df2"
   ]
  },
  {
   "cell_type": "code",
   "execution_count": 94,
   "id": "992822cb",
   "metadata": {},
   "outputs": [
    {
     "name": "stdout",
     "output_type": "stream",
     "text": [
      "      0     1    2\n",
      "0   308   700  901\n",
      "1  1421  1121  135\n",
      "        0       1      2\n",
      "0     NaN     NaN  901.0\n",
      "1  1421.0  1121.0    NaN\n",
      "      0     1    2\n",
      "0   308   700  801\n",
      "1  1321  1021  135\n"
     ]
    }
   ],
   "source": [
    "#更新資料\n",
    "df = pd.read_csv(\"dists.csv\", encoding=\"utf8\")\n",
    "ordinals =[\"first\", \"second\", \"third\", \"fourth\", \"fifth\",\n",
    "\"sixth\", \"seventh\", \"eigth\", \"ninth\", \"tenth\",\n",
    "\"eleventh\", \"twelvth\", \"thirteenth\"]\n",
    "df.index = ordinals\n",
    "\n",
    "#更新純量值\n",
    "# df.loc[ordinals[0], \"population\"] = 160000\n",
    "# df.iloc[1,2] = 560000\n",
    "# print(df.head(2))\n",
    "\n",
    "#更新單筆紀錄\n",
    "# s=[\"新莊區\",416640,\"新北市\"]\n",
    "# df.loc[ordinals[1],[\"name\",\"population\",\"city\"]] = s[:]\n",
    "# print(df.head(2))\n",
    "\n",
    "#更新整個DataFrame物件\n",
    "import numpy as np\n",
    "# df.loc[:, \"population\"] = np.random.randint(34000, 700000,size=len(df))\n",
    "# print(df.head())\n",
    "\n",
    "#更新整個欄位值\n",
    "df = pd.DataFrame(np.random.randint(5,1500, size=(2,3)))\n",
    "print(df)\n",
    "print(df[df > 800])\n",
    "df[df > 800] = df - 100\n",
    "print(df)\n",
    "\n",
    "del df,ordinals,s"
   ]
  },
  {
   "cell_type": "code",
   "execution_count": 98,
   "id": "a4cb34a2",
   "metadata": {},
   "outputs": [
    {
     "name": "stdout",
     "output_type": "stream",
     "text": [
      "        Unnamed: 0 name city\n",
      "first            0  中正區  台北市\n",
      "second           1  板橋區  新北市\n",
      "third            2  桃園區  桃園市\n"
     ]
    }
   ],
   "source": [
    "#刪除資料\n",
    "df = pd.read_csv(\"dists.csv\", encoding=\"utf8\")\n",
    "ordinals =[\"first\", \"second\", \"third\", \"fourth\", \"fifth\",\n",
    "\"sixth\", \"seventh\", \"eigth\", \"ninth\", \"tenth\",\n",
    "\"eleventh\", \"twelvth\", \"thirteenth\"]\n",
    "df.index = ordinals\n",
    "\n",
    "#刪除純量值\n",
    "# df.loc[ordinals[0], \"population\"] = None\n",
    "# df.iloc[1,2] = None\n",
    "# print(df.head(3))\n",
    "\n",
    "#刪除紀錄 df.drop()\n",
    "# df2 = df.drop([\"second\", \"fourth\"])#2,4筆\n",
    "# print(df2.head())\n",
    "# df.drop(df.index[[2,3]], inplace=True)#3,4筆\n",
    "# print(df.head())\n",
    "\n",
    "#刪除欄位\n",
    "# df2 = df.drop([\"population\"], axis=1)\n",
    "# print(df2.head(3))"
   ]
  },
  {
   "cell_type": "code",
   "execution_count": 108,
   "id": "e0ef4d6c",
   "metadata": {
    "scrolled": true
   },
   "outputs": [
    {
     "name": "stdout",
     "output_type": "stream",
     "text": [
      "        Unnamed: 0 name  population city  area\n",
      "first            0  中正區      159598  台北市  8494\n",
      "second           1  板橋區      551452  新北市  8186\n",
      "third            2  桃園區      441287  桃園市  7767\n",
      "fourth           3  北屯區      275207  台中市  8395\n",
      "fifth            4  安南區      192327  台南市  8118\n",
      "        Unnamed: 0 name  population city  area  zip\n",
      "first            0  中正區      159598  台北市  8494  105\n",
      "second           1  板橋區      551452  新北市  8186  111\n",
      "third            2  桃園區      441287  桃園市  7767  114\n",
      "fourth           3  北屯區      275207  台中市  8395  117\n",
      "fifth            4  安南區      192327  台南市  8118  106\n"
     ]
    }
   ],
   "source": [
    "#新增資料\n",
    "df = pd.read_csv(\"dists.csv\", encoding=\"utf8\")\n",
    "ordinals =[\"first\", \"second\", \"third\", \"fourth\", \"fifth\",\n",
    "\"sixth\", \"seventh\", \"eigth\", \"ninth\", \"tenth\",\n",
    "\"eleventh\", \"twelvth\", \"thirteenth\"]\n",
    "df.index = ordinals\n",
    "\n",
    "#新增紀錄 df.append(obkect,ignore_index,verify_integrity,sort)\n",
    "# other: DataFrame, series、 dict、 list这样的数据结构\n",
    "# ignore_index:默认值为False如果为True则不使用index标签\n",
    "# verify_integrity:默认值为False,如果为True当创建相同的index时会抛出ValueError的异常\n",
    "# sort:boolean,默认是None,该属性在pandas0.23.0的版本才存在。    \n",
    "# df.loc[\"third-1\",[\"name\",\"population\",\"city\"]]=[\"士林區\",288340,\"台北市\"]\n",
    "# print(df.tail(3))\n",
    "# s=pd.Series({\"city\":\"新北市\",\"name\":\"中和區\",\"population\":413291})\n",
    "# df2 = df.append(s, ignore_index=True)\n",
    "# print(df2.tail(3))\n",
    "\n",
    "#使用新增紀錄建立DataFrame物件\n",
    "# import pandas as pd\n",
    "# from numpy.random import randint\n",
    "# df = pd.DataFrame(columns=(\"qty1\", \"qty2\", \"qty3\"))\n",
    "# for i in range(5):\n",
    "#     df.loc[i] = [randint(-1,1) for n in range(3)]\n",
    "# print(df)\n",
    "# df2 = pd.DataFrame(columns=(\"qty1\", \"qty2\", \"qty3\"))\n",
    "# for i in range(5):\n",
    "#     s = pd.Series({\"qty1\":randint(-1,1),\"qty2\":randint(-1,1),\"qty3\":randint(-1,1)})\n",
    "#     df2 = df2.append(s, ignore_index=True)\n",
    "# print(df2)\n",
    "\n",
    "#新增欄位\n",
    "df[\"area\"] = pd.Series([randint(6000,9000) for n in range(len(df))]).values\n",
    "print(df.head())\n",
    "df.loc[:,\"zip\"] = randint(100, 120, size=len(df))\n",
    "print(df.head())\n",
    "\n",
    "del df,ordinals,s,df2"
   ]
  },
  {
   "cell_type": "code",
   "execution_count": 123,
   "id": "ac00a2a4",
   "metadata": {},
   "outputs": [
    {
     "name": "stdout",
     "output_type": "stream",
     "text": [
      "  key  data1  data2\n",
      "0   a      0      0\n",
      "1   b      1      1\n",
      "2   b      2      1\n",
      "  key  data2  data1\n",
      "0   a      0      0\n",
      "1   b      1      1\n",
      "2   b      1      2\n",
      "  key  data2  data1\n",
      "0   a      0    0.0\n",
      "1   b      1    1.0\n",
      "2   b      1    2.0\n",
      "3   c      2    NaN\n"
     ]
    }
   ],
   "source": [
    "df = pd.read_csv(\"dists.csv\", encoding=\"utf8\")\n",
    "ordinals =[\"first\", \"second\", \"third\", \"fourth\", \"fifth\",\n",
    "\"sixth\", \"seventh\", \"eigth\", \"ninth\", \"tenth\",\n",
    "\"eleventh\", \"twelvth\", \"thirteenth\"]\n",
    "df.index = ordinals\n",
    "\n",
    "#建立空的DataFrame物件\n",
    "# columns =[\"city\",\"name\", \"population\"]\n",
    "# df_empty = pd.DataFrame(np.nan, index=ordinals,\n",
    "# columns=columns)\n",
    "# print(df_empty)\n",
    "\n",
    "#複製DataFrame物件 df.copy\n",
    "# df_copy = df.copy\n",
    "# print(df_copy)\n",
    "\n",
    "#連接多個DataFrame物件 df.concat()\n",
    "# import pandas as pd\n",
    "# from numpy.random import randint\n",
    "# df1 =pd.DataFrame(randint(5,10,size=(3,4)),columns=[\"a\",\"b\",\"c\",\"d\"])\n",
    "# df2 =pd.DataFrame(randint(5,10,size=(2,3)),columns=[\"b\",\"d\",\"a\"])\n",
    "# df3 = pd.concat([df1,df2])\n",
    "# print(df3)\n",
    "# df4 = pd.concat([df1,df2], ignore_index=True)\n",
    "# print(df4)\n",
    "\n",
    "#合併2個 DataFrame物件 df.merge(,how)\n",
    "#how:inner,left,right,outer\n",
    "df1 = pd.DataFrame({\"key\":[\"a\",\"b\",\"b\"], \"data1\":range(3)})\n",
    "df2 = pd.DataFrame({\"key\":[\"a\",\"b\",\"c\"], \"data2\":range(3)})\n",
    "df3 = pd.merge(df1,df2)\n",
    "print(df3)\n",
    "df4 = pd.merge(df2, df1)\n",
    "print(df4)\n",
    "df5 = pd.merge(df2, df1, how='left')\n",
    "print(df5)\n",
    "\n",
    "del df,df2,df3,df4,df5,ordinals,df_empty,df_copy"
   ]
  },
  {
   "cell_type": "code",
   "execution_count": 136,
   "id": "7e98e485",
   "metadata": {},
   "outputs": [
    {
     "name": "stdout",
     "output_type": "stream",
     "text": [
      "          A         B         C         D\n",
      "0  0.761173  0.557823  0.454348  0.665271\n",
      "1  0.596212  0.659500  0.232734  0.916493\n",
      "2  0.170283  0.637969  0.332512  0.244191\n",
      "3  0.723244  0.685474  0.374374  0.900936\n",
      "4  0.007092  0.774258  0.894018  0.661902\n",
      "5  0.351073  0.249860  0.449910  0.948121\n",
      "\n",
      "          A         B         C         D\n",
      "0  0.761173  0.557823  0.454348  0.665271\n",
      "1  1.357385  1.217323  0.687082  1.581764\n",
      "2  1.527668  1.855292  1.019594  1.825954\n",
      "3  2.250912  2.540766  1.393968  2.726891\n",
      "4  2.258004  3.315024  2.287985  3.388793\n",
      "5  2.609077  3.564883  2.737895  4.336913\n",
      "\n",
      "A    0.754081\n",
      "B    0.524398\n",
      "C    0.661284\n",
      "D    0.703930\n",
      "dtype: float64\n"
     ]
    }
   ],
   "source": [
    "#群組、樞紐分析與套用函數\n",
    "\n",
    "#群組 df.groupby([column].sum())\n",
    "# df = pd.DataFrame({\"名稱\":[\"客户A\",\"客户B\",\"客户A\",\"客户B\",\n",
    "# \"客户A\",\"客户B\",\"客户A\",\"客户A\"],\n",
    "# \"編號\":[\"訂單1\",\"訂單1\",\"訂單2\",\"訂單3\",\n",
    "# \"訂單2\",\"訂單2\",\"訂單1\",\"訂單3\"],\n",
    "# \"數量\":np.random.randint(1,5,size=8),\n",
    "# \"售價\":np.random.randint(150,500,size=8)})\n",
    "# print(df)\n",
    "# print(df.groupby(\"名稱\").sum())\n",
    "# print()\n",
    "# print(df.groupby([\"名稱\",\"編號\"]).sum())\n",
    "# del df\n",
    "\n",
    "#樞紐分析\n",
    "# products = pd.DataFrame({\"分類\":[\"居家\",\"居家\",\"娛樂\",\"娛樂\",\"科技\",\"科技\"],\n",
    "# \"商店\":[\"家樂福\",\"頂好\",\"家樂福\",\"全聯\",\"頂好\",\"家樂福\"],\n",
    "# \"價格\":[11.42,23.50,19.99,15.95,55.75,111.55],\n",
    "# \"測試分數\":[4,3,5,7,5,8]})\n",
    "# print(products)\n",
    "# print()\n",
    "# pivot_products = products.pivot_table(index='分類',columns='商店',values='價格')\n",
    "# print(pivot_products)\n",
    "# del products,pivot_products\n",
    "\n",
    "#套用函數 df.apply(函數) 函數：np.cumsum()\n",
    "# import pandas as pd\n",
    "# import numpy as np\n",
    "df = pd.DataFrame(np.random.rand(6,4),columns=list(\"ABCD\"))\n",
    "print(df)\n",
    "print()\n",
    "df2 = df.apply(np.cumsum)\n",
    "print(df2)\n",
    "print()\n",
    "df3 = df.apply(lambda x: x.max() - x.min())\n",
    "print(df3)"
   ]
  },
  {
   "cell_type": "code",
   "execution_count": 30,
   "id": "a68adae3",
   "metadata": {
    "scrolled": false
   },
   "outputs": [
    {
     "name": "stdout",
     "output_type": "stream",
     "text": [
      "                     population      area\n",
      "Zhongzheng District      159598    7.6071\n",
      "Banqiao District         551452   23.1373\n",
      "Taoyuan District         441287   34.8046\n",
      "Beitun District          275207   62.7034\n",
      "Annan District           192327  107.2016\n",
      "Sanmin District          343203   19.7866\n",
      "Da'an District           309835   11.3614\n",
      "Yonghe District          222531    5.7138\n",
      "Bade District            198473   33.7111\n",
      "Qianzhen District        189623   19.1207\n",
      "Fengshan District        359125   26.7590\n",
      "Xinyi District           225561   11.2077\n",
      "Xindian District         302070  120.2255\n",
      "             0\n",
      "count  8.00000\n",
      "mean   4.50000\n",
      "std    2.44949\n",
      "min    1.00000\n",
      "25%    2.75000\n",
      "50%    4.50000\n",
      "75%    6.25000\n",
      "max    8.00000\n"
     ]
    },
    {
     "data": {
      "text/plain": [
       "<AxesSubplot:title={'center':'Box Chart'}>"
      ]
     },
     "execution_count": 30,
     "metadata": {},
     "output_type": "execute_result"
    },
    {
     "data": {
      "image/png": "[encoded data removed]",
      "text/plain": [
       "<Figure size 432x288 with 1 Axes>"
      ]
     },
     "metadata": {
      "needs_background": "light"
     },
     "output_type": "display_data"
    },
    {
     "data": {
      "image/png": "[encoded data removed]",
      "text/plain": [
       "<Figure size 432x288 with 1 Axes>"
      ]
     },
     "metadata": {
      "needs_background": "light"
     },
     "output_type": "display_data"
    },
    {
     "data": {
      "image/png": "[encoded data removed]",
      "text/plain": [
       "<Figure size 432x288 with 1 Axes>"
      ]
     },
     "metadata": {
      "needs_background": "light"
     },
     "output_type": "display_data"
    },
    {
     "data": {
      "image/png": "[encoded data removed]",
      "text/plain": [
       "<Figure size 432x288 with 1 Axes>"
      ]
     },
     "metadata": {
      "needs_background": "light"
     },
     "output_type": "display_data"
    }
   ],
   "source": [
    "#建立DataFrame物件\n",
    "import pandas as pd\n",
    "dists={\"name\":[\"Zhongzheng District\", \"Banqiao District\", \"Taoyuan District\", \"Beitun District\",\n",
    "     \"Annan District\", \"Sanmin District\", \"Da'an District\", \"Yonghe District\",\n",
    "     \"Bade District\", \"Qianzhen District\", \"Fengshan District\",\n",
    "     \"Xinyi District\", \"Xindian District\"],\n",
    "    \"population\": [159598, 551452, 441287, 275207,\n",
    "    192327,343203, 309835, 222531,\n",
    "    198473, 189623,359125,\n",
    "    225561,302070],\n",
    "    \"city\":[\"Taipei City\", \"New Taipei City\", \"Taoyuan City\", \"Taichung City\",\n",
    "     \"Tainan City\", \"Kaohsiung City\", \"Taipei City\", \"New Taipei City\",\n",
    "     \"Taoyuan City\", \"Kaohsiung City\", \"Kaohsiung City\",\n",
    "     \"Taipei City\", \"New Taipei City\"]}\n",
    "\n",
    "#使用DataFrame物件繪製折線圖df.plot()\n",
    "#顯示完整x軸標籤的折線圖\n",
    "# df = pd.DataFrame(dists,columns=[\"population\"],index=dists[\"name\"])\n",
    "# print(df)\n",
    "# df.plot(xticks=range(len(df.index)),use_index=True)\n",
    "# df.plot(xticks=range(len(df.index)),use_index= True,rot=90)\n",
    "# df.plot()\n",
    "\n",
    "#使用兩個資料集來繪製折線圖\n",
    "dists[\"area\"]=([7.6071, 23.1373, 34.8046, 62.7034,\n",
    "107.2016, 19.7866, 11.3614,5.7138,\n",
    "33.7111, 19.1207, 26.7590,\n",
    "11.2077,120.2255])\n",
    "df = pd.DataFrame(dists,columns=[\"population\",\"area\"],index=dists[\"name\"])\n",
    "print(df)\n",
    "df[\"area\"] *=1000\n",
    "df.plot(xticks=range(len(df.index)),use_index= True,rot=90)\n",
    "\n",
    "#使用DataFrame物件繪製長條圖 df.plot(kind=\"bar\", rot=0)\n",
    "df.plot(kind=\"bar\", rot=90)\n",
    "\n",
    "#使用DataFrame物件繪製散佈圖df.plot(kind= \"scatter\")\n",
    "import numpy as np\n",
    "x = np.linspace(0, 2*np.pi, 50)\n",
    "y = np.sin(x)\n",
    "df = pd.DataFrame({\"x\":x, \"y\":y})\n",
    "df.plot(kind= \"scatter\", x=\"x\", y=\"y\",title=\"Sin(x)\")\n",
    "\n",
    "#使用DataFrame物件繪製箱形圖\n",
    "# df.boxplot(dists,columns=[\"population\",\"area\"],by=[\"name\"],figsize=(6,5))\n",
    "data = [1, 2, 3, 4, 5, 6, 7, 8]\n",
    "df = pd.DataFrame(data)\n",
    "print(df.describe())\n",
    "df.plot.box(title=\"Box Chart\")"
   ]
  },
  {
   "cell_type": "code",
   "execution_count": 29,
   "id": "1cea51b0",
   "metadata": {},
   "outputs": [
    {
     "name": "stdout",
     "output_type": "stream",
     "text": [
      "Object `iris.boxplot()` not found.\n"
     ]
    }
   ],
   "source": [
    "?objext.boxplot()"
   ]
  }
 ],
 "metadata": {
  "kernelspec": {
   "display_name": "Python 3",
   "language": "python",
   "name": "python3"
  },
  "language_info": {
   "codemirror_mode": {
    "name": "ipython",
    "version": 3
   },
   "file_extension": ".py",
   "mimetype": "text/x-python",
   "name": "python",
   "nbconvert_exporter": "python",
   "pygments_lexer": "ipython3",
   "version": "3.8.8"
  }
 },
 "nbformat": 4,
 "nbformat_minor": 5
}
